{
 "cells": [
  {
   "cell_type": "code",
   "execution_count": 2,
   "id": "cdbf8b77",
   "metadata": {},
   "outputs": [
    {
     "name": "stdout",
     "output_type": "stream",
     "text": [
      "1. Positive or Negative\n",
      "Write a program to check whether a given number is positive, negative, or zero.\n",
      "\n",
      "The number -2.0 is Negative.\n"
     ]
    }
   ],
   "source": [
    "print(\"1. Positive or Negative\")\n",
    "print(\"Write a program to check whether a given number is positive, negative, or zero.\\n\")\n",
    "\n",
    "# Get input from the user\n",
    "# The input is converted to a float to handle decimal numbers\n",
    "num = float(input(\"Enter a number: \"))\n",
    "    # Check the condition for the number\n",
    "if num > 0:\n",
    "        # This block runs if the number is greater than zero\n",
    "        print(f\"The number {num} is Positive.\")\n",
    "elif num < 0:\n",
    "        # This block runs if the number is less than zero\n",
    "        print(f\"The number {num} is Negative.\")\n",
    "else:\n",
    "        # This block runs if the number is exactly zero\n",
    "        print(\"The number is Zero.\")\n"
   ]
  },
  {
   "cell_type": "code",
   "execution_count": 3,
   "id": "fde7eb5f",
   "metadata": {},
   "outputs": [
    {
     "name": "stdout",
     "output_type": "stream",
     "text": [
      "Question 2: Even or Odd\n",
      "Write a program to check whether a given integer is even or odd.\n",
      "\n",
      "The number 24 is Even.\n"
     ]
    }
   ],
   "source": [
    "print(\"Question 2: Even or Odd\")\n",
    "print(\"Write a program to check whether a given integer is even or odd.\\n\")\n",
    "\n",
    "# Input an integer from the user\n",
    "num = int(input(\"Enter an integer: \"))\n",
    "\n",
    "# Check if the number is divisible by 2 with no remainder\n",
    "if num % 2 == 0:\n",
    "    # If the remainder is 0, the number is even\n",
    "    print(f\"The number {num} is Even.\")\n",
    "else:\n",
    "    # If there is a remainder, the number is odd\n",
    "    print(f\"The number {num} is Odd.\")"
   ]
  },
  {
   "cell_type": "code",
   "execution_count": 4,
   "id": "a79f8f73",
   "metadata": {},
   "outputs": [
    {
     "name": "stdout",
     "output_type": "stream",
     "text": [
      "Question 3: Largest of Two Numbers\n",
      "Write a program to input two numbers and print which one is larger.\n",
      "\n",
      "Between 4.0 and 6.0, the larger number is 6.0.\n"
     ]
    }
   ],
   "source": [
    "print(\"Question 3: Largest of Two Numbers\")\n",
    "print(\"Write a program to input two numbers and print which one is larger.\\n\")\n",
    "\n",
    "# Input the first number\n",
    "num1 = float(input(\"Enter the first number: \"))\n",
    "# Input the second number\n",
    "num2 = float(input(\"Enter the second number: \"))\n",
    "\n",
    "# Compare the two numbers\n",
    "if num1 > num2:\n",
    "    print(f\"Between {num1} and {num2}, the larger number is {num1}.\")\n",
    "elif num2 > num1:\n",
    "    print(f\"Between {num1} and {num2}, the larger number is {num2}.\")\n",
    "else:\n",
    "    print(\"Both numbers are equal.\")"
   ]
  },
  {
   "cell_type": "code",
   "execution_count": 5,
   "id": "d1414f4e",
   "metadata": {},
   "outputs": [
    {
     "name": "stdout",
     "output_type": "stream",
     "text": [
      "Question 4: Absolute Value\n",
      "Write a program to find the absolute value of a given number without using the abs() function.\n",
      "\n",
      "The absolute value of -8.0 is 8.0.\n"
     ]
    }
   ],
   "source": [
    "print(\"Question 4: Absolute Value\")\n",
    "print(\"Write a program to find the absolute value of a given number without using the abs() function.\\n\")\n",
    "\n",
    "# Input a number from the user\n",
    "num = float(input(\"Enter a number: \"))\n",
    "\n",
    "# Check if the number is negative\n",
    "if num < 0:\n",
    "    # If it's negative, multiply by -1 to get the absolute value\n",
    "    absolute_value = num * -1\n",
    "else:\n",
    "    # If it's positive or zero, the number is its own absolute value\n",
    "    absolute_value = num\n",
    "\n",
    "print(f\"The absolute value of {num} is {absolute_value}.\")"
   ]
  },
  {
   "cell_type": "code",
   "execution_count": 6,
   "id": "a42c48ca",
   "metadata": {},
   "outputs": [
    {
     "name": "stdout",
     "output_type": "stream",
     "text": [
      "Question 5: Eligibility for Voting\n",
      "Write a program to check whether a person is eligible to vote or not. (A person is eligible if their age is 18 or above).\n",
      "\n",
      "You are eligible to vote. Because you are 18 or older.\n"
     ]
    }
   ],
   "source": [
    "print(\"Question 5: Eligibility for Voting\")\n",
    "print(\"Write a program to check whether a person is eligible to vote or not. (A person is eligible if their age is 18 or above).\\n\")\n",
    "\n",
    "# Input the age\n",
    "age = int(input(\"Enter your age: \"))\n",
    "\n",
    "# Check if the age is 18 or greater\n",
    "if age >= 18:\n",
    "    print(\"You are eligible to vote. Because you are 18 or older.\")\n",
    "else:\n",
    "    print(\"You are not eligible to vote.\")"
   ]
  },
  {
   "cell_type": "code",
   "execution_count": 7,
   "id": "329c3283",
   "metadata": {},
   "outputs": [
    {
     "name": "stdout",
     "output_type": "stream",
     "text": [
      "Question 6: Leap Year Check\n",
      "Write a program to check whether a given year is a leap year or not.\n",
      "\n",
      "2006 is not a leap year.\n"
     ]
    }
   ],
   "source": [
    "print(\"Question 6: Leap Year Check\")\n",
    "print(\"Write a program to check whether a given year is a leap year or not.\\n\")\n",
    "\n",
    "# Input the year\n",
    "year = int(input(\"Enter a year: \"))\n",
    "\n",
    "# A year is a leap year if it is divisible by 4\n",
    "# Exception: Years divisible by 100 are not leap years\n",
    "# Exception to the exception: Years divisible by 400 are leap years\n",
    "if (year % 400 == 0) or (year % 4 == 0 and year % 100 != 0):\n",
    "    print(f\"{year} is a leap year. 🗓️\")\n",
    "else:\n",
    "    print(f\"{year} is not a leap year.\")"
   ]
  },
  {
   "cell_type": "code",
   "execution_count": 8,
   "id": "fcc81a58",
   "metadata": {},
   "outputs": [
    {
     "name": "stdout",
     "output_type": "stream",
     "text": [
      "Question 7: Grade Calculation\n",
      "Write a program that takes marks as input and prints 'Pass' if marks are 40 or above, and 'Fail' otherwise.\n",
      "\n",
      "Result: Pass\n"
     ]
    }
   ],
   "source": [
    "print(\"Question 7: Grade Calculation\")\n",
    "print(\"Write a program that takes marks as input and prints 'Pass' if marks are 40 or above, and 'Fail' otherwise.\\n\")\n",
    "\n",
    "# Input the marks\n",
    "marks = float(input(\"Enter the marks: \"))\n",
    "\n",
    "# Check if marks are 40 or above for a pass\n",
    "if marks >= 40:\n",
    "    print(\"Result: Pass\")\n",
    "else:\n",
    "    print(\"Result: Fail\")"
   ]
  },
  {
   "cell_type": "code",
   "execution_count": 9,
   "id": "c459ce08",
   "metadata": {},
   "outputs": [
    {
     "name": "stdout",
     "output_type": "stream",
     "text": [
      "Question 8: Multiple of 5\n",
      "Write a program to check whether a given number is a multiple of 5.\n",
      "\n",
      "45 is a multiple of 5.\n"
     ]
    }
   ],
   "source": [
    "print(\"Question 8: Multiple of 5\")\n",
    "print(\"Write a program to check whether a given number is a multiple of 5.\\n\")\n",
    "\n",
    "# Input a number\n",
    "num = int(input(\"Enter an integer: \"))\n",
    "\n",
    "# Check if the number is divisible by 5 with no remainder\n",
    "if num % 5 == 0:\n",
    "    print(f\"{num} is a multiple of 5.\")\n",
    "else:\n",
    "    print(f\"{num} is not a multiple of 5.\")"
   ]
  },
  {
   "cell_type": "code",
   "execution_count": 10,
   "id": "362544dd",
   "metadata": {},
   "outputs": [
    {
     "name": "stdout",
     "output_type": "stream",
     "text": [
      "Question 9: Character Case Check\n",
      "Write a program to input a character and check whether it is an uppercase letter, lowercase letter, or not a letter.\n",
      "\n",
      "The character 'y' is a lowercase letter.\n"
     ]
    }
   ],
   "source": [
    "print(\"Question 9: Character Case Check\")\n",
    "print(\"Write a program to input a character and check whether it is an uppercase letter, lowercase letter, or not a letter.\\n\")\n",
    "\n",
    "# Input a single character\n",
    "# [0] ensures we only take the first character if the user enters more than one\n",
    "char = input(\"Enter a single character: \")[0]\n",
    "\n",
    "# Check if the character is between 'a' and 'z'\n",
    "if 'a' <= char <= 'z':\n",
    "    print(f\"The character '{char}' is a lowercase letter.\")\n",
    "# Check if the character is between 'A' and 'Z'\n",
    "elif 'A' <= char <= 'Z':\n",
    "    print(f\"The character '{char}' is an uppercase letter.\")\n",
    "else:\n",
    "    print(f\"The character '{char}' is not a letter.\")"
   ]
  },
  {
   "cell_type": "code",
   "execution_count": 12,
   "id": "bb56efe5",
   "metadata": {},
   "outputs": [
    {
     "name": "stdout",
     "output_type": "stream",
     "text": [
      "Question 10: Discount Calculator\n",
      "Calculate a discount: 10% if the purchase amount is >= 1000, otherwise no discount. Print the final bill.\n",
      "\n",
      "A discount of 10% ($240.00) has been applied!\n",
      "\n",
      "Original Amount: Rs2400.00\n",
      "Final Bill after discount: Rs2160.00\n"
     ]
    }
   ],
   "source": [
    "print(\"Question 10: Discount Calculator\")\n",
    "print(\"Calculate a discount: 10% if the purchase amount is >= 1000, otherwise no discount. Print the final bill.\\n\")\n",
    "\n",
    "# Input the purchase amount\n",
    "purchase_amount = float(input(\"Enter the total purchase amount: \"))\n",
    "discount = float(input(\"Enter how much discount you want: \"))\n",
    "\n",
    "# Check if the amount is eligible for a discount\n",
    "if purchase_amount >= 1000:\n",
    "    # Calculate a 10% discount\n",
    "    discount = purchase_amount * (discount / 100)\n",
    "    print(f\"A discount of 10% (${discount:.2f}) has been applied!\")\n",
    "else:\n",
    "    print(\"No discount is applicable.\")\n",
    "\n",
    "# Calculate the final bill\n",
    "final_bill = purchase_amount - discount\n",
    "\n",
    "print(f\"\\nOriginal Amount: Rs{purchase_amount:.2f}\")\n",
    "print(f\"Final Bill after discount: Rs{final_bill:.2f}\")"
   ]
  },
  {
   "cell_type": "code",
   "execution_count": null,
   "id": "94ec7820",
   "metadata": {},
   "outputs": [],
   "source": []
  }
 ],
 "metadata": {
  "kernelspec": {
   "display_name": "Python 3",
   "language": "python",
   "name": "python3"
  },
  "language_info": {
   "codemirror_mode": {
    "name": "ipython",
    "version": 3
   },
   "file_extension": ".py",
   "mimetype": "text/x-python",
   "name": "python",
   "nbconvert_exporter": "python",
   "pygments_lexer": "ipython3",
   "version": "3.13.6"
  }
 },
 "nbformat": 4,
 "nbformat_minor": 5
}
