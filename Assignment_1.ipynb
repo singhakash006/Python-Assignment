{
 "cells": [
  {
   "cell_type": "code",
   "execution_count": 1,
   "id": "43faef5f",
   "metadata": {},
   "outputs": [
    {
     "name": "stdout",
     "output_type": "stream",
     "text": [
      "Q1. Write a Python program to get a list, sorted in increasing order by the last element ineach tuple from a given list of non-empty tuples.\n",
      "[(2, 1), (1, 2), (2, 3), (4, 4), (2, 5)]\n"
     ]
    }
   ],
   "source": [
    "print(\"Q1. Write a Python program to get a list, sorted in increasing order by the last element in\\\n",
    "each tuple from a given list of non-empty tuples.\")\n",
    "sample_list = [(2, 5), (1, 2), (4, 4), (2, 3), (2, 1)]\n",
    "def get_last(t):\n",
    "    return t[-1]\n",
    "sorted_list = sorted(sample_list, key=get_last)\n",
    "print(sorted_list)"
   ]
  },
  {
   "cell_type": "code",
   "execution_count": 2,
   "id": "b9b8128c",
   "metadata": {},
   "outputs": [
    {
     "name": "stdout",
     "output_type": "stream",
     "text": [
      "Q4. Write a python program to sort a dictionary by value.\n",
      "Dictionary sorted by value: {'banana': 2, 'orange': 5, 'mango': 7, 'apple': 10}\n"
     ]
    }
   ],
   "source": [
    "print(\"Q4. Write a python program to sort a dictionary by value.\")\n",
    "\n",
    "my_dict = {'apple': 10, 'banana': 2, 'orange': 5, 'mango': 7}\n",
    "\n",
    "# Sort dictionary by value (ascending)\n",
    "sorted_dict = dict(sorted(my_dict.items(), key=lambda item: item[1]))\n",
    "\n",
    "print(\"Dictionary sorted by value:\", sorted_dict)\n"
   ]
  },
  {
   "cell_type": "code",
   "execution_count": 3,
   "id": "f32d5608",
   "metadata": {},
   "outputs": [
    {
     "name": "stdout",
     "output_type": "stream",
     "text": [
      "Q2. Write a Python program to get a string from a given string where all occurrences of itsfirst char have been changed to &#39;$&#39;, except the first char itself. Sample String : &#39;restart&#39; \n",
      "resta$t\n"
     ]
    }
   ],
   "source": [
    "print(\"Q2. Write a Python program to get a string from a given string where all occurrences of its\\\n",
    "first char have been changed to &#39;$&#39;, except the first char itself. Sample String : &#39;restart&#39; \")\n",
    "def change_char(s):\n",
    "    first_char = s[0]\n",
    "    modified = first_char + s[1:].replace(first_char, '$')\n",
    "    return modified\n",
    "\n",
    "print(change_char('restart'))\n"
   ]
  },
  {
   "cell_type": "code",
   "execution_count": 4,
   "id": "cf376644",
   "metadata": {},
   "outputs": [
    {
     "name": "stdout",
     "output_type": "stream",
     "text": [
      "Q3. Write a Python program to find the first appearance of the substring &#39;not&#39; and &#39;poor&#39; froma given string, if &#39;bad&#39; follows the &#39;poor&#39;, replace the whole &#39;not&#39;...&#39;poor&#39; substring with &#39;good&#39;.Return the resulting string.\n",
      "The food is good but really bad!\n",
      "This movie is good and bad.\n",
      "The dinner is poor, not good.\n"
     ]
    }
   ],
   "source": [
    "print(\"Q3. Write a Python program to find the first appearance of the substring &#39;not&#39; and &#39;poor&#39; from\\\n",
    "a given string, if &#39;bad&#39; follows the &#39;poor&#39;, replace the whole &#39;not&#39;...&#39;poor&#39; substring with &#39;good&#39;.\\\n",
    "Return the resulting string.\")\n",
    "\n",
    "def replace_not_poor(s):\n",
    "    not_index = s.find('not')\n",
    "    poor_index = s.find('poor')\n",
    "    bad_index = s.find('bad')\n",
    "\n",
    "    if not_index != -1 and poor_index != -1 and bad_index != -1 and poor_index > not_index < bad_index and bad_index > poor_index:\n",
    "        s = s[:not_index] + 'good' + s[poor_index + 4:]\n",
    "    return s\n",
    "\n",
    "# Test cases\n",
    "print(replace_not_poor(\"The food is not that poor but really bad!\"))\n",
    "print(replace_not_poor(\"This movie is not so poor and bad.\"))\n",
    "print(replace_not_poor(\"The dinner is poor, not good.\"))\n"
   ]
  },
  {
   "cell_type": "code",
   "execution_count": null,
   "id": "b7d1bb22",
   "metadata": {},
   "outputs": [
    {
     "name": "stdout",
     "output_type": "stream",
     "text": [
      "Q5. Write a python program to add key to a dictionary.\n",
      "Original Dictionary: {0: 10, 1: 20}\n",
      "Updated Dictionary: {0: 10, 1: 20, 2: 30, 3: 45}\n"
     ]
    }
   ],
   "source": [
    "\n",
    "print(\"Q5. Write a python program to add key to a dictionary.\")\n",
    "my_dict = {0: 10, 1: 20}\n",
    "print(\"Original Dictionary:\", my_dict)\n",
    "my_dict[2] = 30\n",
    "key = int(input(\"Enter a key for dictionary :\"))\n",
    "value = int(input(\"Enter a value for dictionary :\"))\n",
    "my_dict[key] = value\n",
    "\n",
    "print(\"Updated Dictionary:\", my_dict)"
   ]
  },
  {
   "cell_type": "markdown",
   "id": "fa4cbb6d",
   "metadata": {},
   "source": []
  },
  {
   "cell_type": "code",
   "execution_count": null,
   "id": "fcfb1ac3",
   "metadata": {},
   "outputs": [],
   "source": []
  }
 ],
 "metadata": {
  "kernelspec": {
   "display_name": "Python 3",
   "language": "python",
   "name": "python3"
  },
  "language_info": {
   "codemirror_mode": {
    "name": "ipython",
    "version": 3
   },
   "file_extension": ".py",
   "mimetype": "text/x-python",
   "name": "python",
   "nbconvert_exporter": "python",
   "pygments_lexer": "ipython3",
   "version": "3.13.6"
  }
 },
 "nbformat": 4,
 "nbformat_minor": 5
}
